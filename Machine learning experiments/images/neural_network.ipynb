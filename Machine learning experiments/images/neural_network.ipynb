{
  "cells": [
    {
      "cell_type": "code",
      "execution_count": null,
      "metadata": {
        "colab": {
          "base_uri": "https://localhost:8080/"
        },
        "id": "JGzc3JZWQU5w",
        "outputId": "b2a0e8ca-4818-4d25-c632-96caecdb9a41"
      },
      "outputs": [
        {
          "name": "stdout",
          "output_type": "stream",
          "text": [
            "Accuracy for Neural Network is: 91.66666666666666\n",
            "Confusion Matrix\n",
            "[[10  0  0]\n",
            " [ 1 12  0]\n",
            " [ 1  1 11]]\n",
            "              precision    recall  f1-score   support\n",
            "\n",
            "           0       0.83      1.00      0.91        10\n",
            "           1       0.92      0.92      0.92        13\n",
            "           2       1.00      0.85      0.92        13\n",
            "\n",
            "    accuracy                           0.92        36\n",
            "   macro avg       0.92      0.92      0.92        36\n",
            "weighted avg       0.93      0.92      0.92        36\n",
            "\n"
          ]
        },
        {
          "name": "stderr",
          "output_type": "stream",
          "text": [
            "/usr/local/lib/python3.7/dist-packages/sklearn/neural_network/_multilayer_perceptron.py:696: ConvergenceWarning: Stochastic Optimizer: Maximum iterations (200) reached and the optimization hasn't converged yet.\n",
            "  ConvergenceWarning,\n"
          ]
        }
      ],
      "source": [
        "# Step 1\n",
        "# Importing the necessary libraries\n",
        "import numpy as np\n",
        "from sklearn.datasets import load_wine\n",
        "from sklearn.model_selection import train_test_split\n",
        "from sklearn.neural_network import MLPClassifier\n",
        "from sklearn.metrics import confusion_matrix, accuracy_score,classification_report\n",
        "\n",
        "# Step 2\n",
        "# Loading the dataset\n",
        "dataset = load_wine()\n",
        "\n",
        "# Step 3\n",
        "# Splitting the data into tst and train\n",
        "# 80 - 20 Split\n",
        "x_train, x_test, y_train, y_test = train_test_split(dataset.data, dataset.target, test_size=0.20, random_state=4)\n",
        "\n",
        "# Step 4\n",
        "# Making the Neural Network Classifier\n",
        "NN = MLPClassifier()\n",
        "\n",
        "# Step 5\n",
        "# Training the model on the training data and labels\n",
        "NN.fit(x_train, y_train)\n",
        "\n",
        "# Step 6\n",
        "# Testing the model i.e. predicting the labels of the test data.\n",
        "y_pred = NN.predict(x_test)\n",
        "\n",
        "# Step 7\n",
        "# Evaluating the results of the model\n",
        "accuracy = accuracy_score(y_test,y_pred)*100\n",
        "confusion_mat = confusion_matrix(y_test,y_pred)\n",
        "\n",
        "# Step 8\n",
        "# Printing the Results\n",
        "print(\"Accuracy for Neural Network is:\",accuracy)\n",
        "print(\"Confusion Matrix\")\n",
        "print(confusion_mat)\n",
        "print(classification_report\n",
        "      (y_test,y_pred))\n",
        "\n"
      ]
    }
  ],
  "metadata": {
    "colab": {
      "provenance": []
    },
    "kernelspec": {
      "display_name": "Python 3.9.7 64-bit",
      "language": "python",
      "name": "python3"
    },
    "language_info": {
      "name": "python",
      "version": "3.9.7"
    },
    "vscode": {
      "interpreter": {
        "hash": "aee8b7b246df8f9039afb4144a1f6fd8d2ca17a180786b69acc140d282b71a49"
      }
    }
  },
  "nbformat": 4,
  "nbformat_minor": 0
}
