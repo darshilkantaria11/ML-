{
  "cells": [
    {
      "cell_type": "code",
      "execution_count": 1,
      "metadata": {
        "colab": {
          "base_uri": "https://localhost:8080/"
        },
        "id": "E5bjY3W8K-qE",
        "outputId": "e50ab5b8-5043-4a5c-e48e-71596478acfc"
      },
      "outputs": [
        {
          "name": "stdout",
          "output_type": "stream",
          "text": [
            "hellow World\n"
          ]
        }
      ],
      "source": [
        "print(\"hellow World\")"
      ]
    },
    {
      "cell_type": "code",
      "execution_count": 2,
      "metadata": {
        "colab": {
          "base_uri": "https://localhost:8080/"
        },
        "id": "zA1f72gKMlpq",
        "outputId": "53e0bc98-b3ee-4b0f-f387-9701ea6729dd"
      },
      "outputs": [
        {
          "name": "stdout",
          "output_type": "stream",
          "text": [
            "5\n",
            "6.5\n",
            "hi! how are yoy?\n"
          ]
        }
      ],
      "source": [
        "x=5\n",
        "print(x)\n",
        "x=6.5\n",
        "print(x)\n",
        "y=\"hi! how are yoy?\"\n",
        "print(y)\n"
      ]
    },
    {
      "cell_type": "code",
      "execution_count": null,
      "metadata": {
        "colab": {
          "base_uri": "https://localhost:8080/"
        },
        "id": "r8FvSY_xTFX-",
        "outputId": "3e15511e-9eaa-40b9-857f-861cbb08a87d"
      },
      "outputs": [
        {
          "name": "stdout",
          "output_type": "stream",
          "text": [
            "2\n",
            "9 5\n"
          ]
        }
      ],
      "source": [
        "a,b,c=2,9,5\n",
        "print(a)\n",
        "print(b,c)"
      ]
    },
    {
      "cell_type": "code",
      "execution_count": null,
      "metadata": {
        "colab": {
          "base_uri": "https://localhost:8080/"
        },
        "id": "8FIuYNK7Ni75",
        "outputId": "02b7b817-7273-46d2-8d9b-b9eae6fde412"
      },
      "outputs": [
        {
          "name": "stdout",
          "output_type": "stream",
          "text": [
            "I am awesome\n"
          ]
        }
      ],
      "source": [
        "'''\n",
        "This is a\n",
        "multi line \n",
        "comments '''\n",
        "print(\"I am awesome\")"
      ]
    },
    {
      "cell_type": "code",
      "execution_count": null,
      "metadata": {
        "colab": {
          "base_uri": "https://localhost:8080/"
        },
        "id": "rWcAZrtGN6Vo",
        "outputId": "ddb7724b-d041-4429-b4f5-5ca79956cc2e"
      },
      "outputs": [
        {
          "name": "stdout",
          "output_type": "stream",
          "text": [
            "<class 'int'> 5\n",
            "<class 'float'> 5.0\n",
            "<class 'str'> 5\n"
          ]
        }
      ],
      "source": [
        "x=int(5)\n",
        "y=float(5)\n",
        "z=str(5)\n",
        "\n",
        "print(type(x),x)\n",
        "print(type(y),y)\n",
        "print(type(z),z)"
      ]
    },
    {
      "cell_type": "code",
      "execution_count": null,
      "metadata": {
        "colab": {
          "base_uri": "https://localhost:8080/"
        },
        "id": "gCPyEP8KOu25",
        "outputId": "80134bf9-15ec-4c3d-fc64-3066048a1f14"
      },
      "outputs": [
        {
          "name": "stdout",
          "output_type": "stream",
          "text": [
            "500\n",
            "500\n",
            "500\n"
          ]
        }
      ],
      "source": [
        "totalBillAmount=500 \n",
        "print(totalBillAmount)\n",
        "\n",
        "TotalBillAmount=500\n",
        "print(TotalBillAmount)\n",
        "\n",
        "Total_bill_amount=500\n",
        "print(Total_bill_amount)\n"
      ]
    },
    {
      "cell_type": "code",
      "execution_count": null,
      "metadata": {
        "colab": {
          "base_uri": "https://localhost:8080/"
        },
        "id": "eOJEjs7NP82w",
        "outputId": "dc12dee0-43f9-4cb3-c38e-5d05a1c653ab"
      },
      "outputs": [
        {
          "name": "stdout",
          "output_type": "stream",
          "text": [
            "True\n"
          ]
        }
      ],
      "source": [
        "flage=True\n",
        "print(flage)"
      ]
    },
    {
      "cell_type": "code",
      "execution_count": null,
      "metadata": {
        "colab": {
          "base_uri": "https://localhost:8080/"
        },
        "id": "QReKwDAOQTRX",
        "outputId": "bb165c15-aa92-48f0-d171-a206257a6fe8"
      },
      "outputs": [
        {
          "name": "stdout",
          "output_type": "stream",
          "text": [
            "(-0-7j)\n",
            "(2+3j)\n"
          ]
        }
      ],
      "source": [
        "t=2+3j\n",
        "w=-7j\n",
        "print(w)\n",
        "print(t)\n"
      ]
    },
    {
      "cell_type": "code",
      "execution_count": null,
      "metadata": {
        "colab": {
          "base_uri": "https://localhost:8080/"
        },
        "id": "pY4vDN27RFTW",
        "outputId": "a0ec6ad1-0556-4c63-da9a-c2409e7693f7"
      },
      "outputs": [
        {
          "name": "stdout",
          "output_type": "stream",
          "text": [
            "2556\n"
          ]
        }
      ],
      "source": [
        "import random\n",
        "print(random.randrange(2500,2711))\n"
      ]
    },
    {
      "cell_type": "code",
      "execution_count": null,
      "metadata": {
        "colab": {
          "base_uri": "https://localhost:8080/"
        },
        "id": "_MCn2NLKSOzQ",
        "outputId": "596c2378-0772-4819-a505-c6b8364acfdc"
      },
      "outputs": [
        {
          "name": "stdout",
          "output_type": "stream",
          "text": [
            "5\n",
            "78.5\n"
          ]
        }
      ],
      "source": [
        "p=3.14\n",
        "def area():\n",
        "  r=int(input())\n",
        "  print(r*r*p)\n",
        "area() "
      ]
    },
    {
      "cell_type": "code",
      "execution_count": null,
      "metadata": {
        "colab": {
          "base_uri": "https://localhost:8080/"
        },
        "id": "0MGemTFqW23N",
        "outputId": "91444f96-61ce-4350-b597-2220b3968a38"
      },
      "outputs": [
        {
          "name": "stdout",
          "output_type": "stream",
          "text": [
            "My name\n",
            "me is Mo\n",
            "lik sur\n",
            "['My name is Moulik surana']\n"
          ]
        }
      ],
      "source": [
        "s=\"My name is Moulik surana\"\n",
        "print(s[:7])\n",
        "print(s[5:13])\n",
        "print(s[-10:-3])\n",
        "\n"
      ]
    },
    {
      "cell_type": "code",
      "execution_count": null,
      "metadata": {
        "colab": {
          "base_uri": "https://localhost:8080/"
        },
        "id": "0tHSCrmyeEjt",
        "outputId": "9d759fc8-e484-45c3-eac3-7fdb16dc5078"
      },
      "outputs": [
        {
          "name": "stdout",
          "output_type": "stream",
          "text": [
            "['hi!', 'how are you?']\n",
            "Hi!,How are you?\n"
          ]
        }
      ],
      "source": [
        "s=\"hi!,how are you?\"\n",
        "print(s.split(\",\"))\n",
        "print(s.replace(\"h\",\"H\"))\n"
      ]
    },
    {
      "cell_type": "code",
      "execution_count": null,
      "metadata": {
        "colab": {
          "base_uri": "https://localhost:8080/"
        },
        "id": "4_-DJ-sEfVWO",
        "outputId": "50156461-1848-410e-82a1-3ffc0bf5761a"
      },
      "outputs": [
        {
          "name": "stdout",
          "output_type": "stream",
          "text": [
            "I want 15 pieces of item 8057 for 1875 dollars.\n"
          ]
        }
      ],
      "source": [
        "quantity = 15\n",
        "itemno = 8057\n",
        "price = 1875\n",
        "myorder = \"I want {} pieces of item {} for {} dollars.\"\n",
        "print(myorder.format(quantity, itemno, price))\n"
      ]
    },
    {
      "cell_type": "code",
      "execution_count": null,
      "metadata": {
        "colab": {
          "base_uri": "https://localhost:8080/"
        },
        "id": "ZgXcHid7gaL2",
        "outputId": "90291a45-0292-41c9-e0ce-5654bca73a79"
      },
      "outputs": [
        {
          "name": "stdout",
          "output_type": "stream",
          "text": [
            "We are the so-called \"Vikings\" from the north.\n"
          ]
        }
      ],
      "source": [
        "txt = \"We are the so-called \\\"Vikings\\\" from the north.\"\n",
        "print(txt)"
      ]
    },
    {
      "cell_type": "code",
      "execution_count": null,
      "metadata": {
        "colab": {
          "base_uri": "https://localhost:8080/"
        },
        "id": "ycxA10cAg3o2",
        "outputId": "825b6bd8-e080-48db-abd7-25e5439fcdf2"
      },
      "outputs": [
        {
          "name": "stdout",
          "output_type": "stream",
          "text": [
            "25\n",
            "40\n",
            "1\n",
            "2\n",
            "True\n",
            "False\n"
          ]
        }
      ],
      "source": [
        "print(5**2)\n",
        "a=10\n",
        "print(5<<3)\n",
        "print(5>>2)\n",
        "print(6&2)\n",
        "print(a>5 or a<0)\n",
        "print(a>5 and a<0)"
      ]
    },
    {
      "cell_type": "code",
      "execution_count": null,
      "metadata": {
        "colab": {
          "base_uri": "https://localhost:8080/"
        },
        "id": "5n8WPMp_kXPX",
        "outputId": "75a61092-a455-4dee-a5bf-d4deeee7a2e2"
      },
      "outputs": [
        {
          "name": "stdout",
          "output_type": "stream",
          "text": [
            "<class 'list'> ['a', 'b', 'c', 'a', 'e']\n",
            "5\n",
            "['c', 'a', 'e']\n",
            "['a', 'b']\n",
            "b\n"
          ]
        }
      ],
      "source": [
        "list1=[\"a\",\"b\",\"c\",\"a\",\"e\"]\n",
        "print (type(list1),list1)\n",
        "print(len(list1))\n",
        "print(list1[2:5])\n",
        "print(list1[-6:-3])\n",
        "print(list1[1])\n"
      ]
    },
    {
      "cell_type": "code",
      "execution_count": null,
      "metadata": {
        "colab": {
          "base_uri": "https://localhost:8080/"
        },
        "id": "ZRh1mCPNZaJ4",
        "outputId": "f28be42d-cd9d-44eb-d056-3cb74830d09c"
      },
      "outputs": [
        {
          "name": "stdout",
          "output_type": "stream",
          "text": [
            "['a', 'z', 'c', 'a', 'e']\n"
          ]
        }
      ],
      "source": [
        "list1=[\"a\",\"b\",\"c\",\"a\",\"e\"]\n",
        "list1.insert(1,'z')\n",
        "list1.pop(2)\n",
        "print (list1)"
      ]
    },
    {
      "cell_type": "code",
      "execution_count": null,
      "metadata": {
        "colab": {
          "base_uri": "https://localhost:8080/"
        },
        "id": "9Jb40RrZcWsT",
        "outputId": "30c398bf-46ae-49e8-ef04-16232a9bd3c4"
      },
      "outputs": [
        {
          "name": "stdout",
          "output_type": "stream",
          "text": [
            "('a', 'b', 'c', 'a', 'e')\n",
            "('a', 'm', 'c', 'a', 'e')\n"
          ]
        }
      ],
      "source": [
        "x=(\"a\",\"b\",\"c\",\"a\",\"e\")\n",
        "print(x)\n",
        "y = list(x)\n",
        "y[1] = \"m\"\n",
        "x = tuple(y)\n",
        "\n",
        "print(x)"
      ]
    },
    {
      "cell_type": "code",
      "execution_count": null,
      "metadata": {
        "colab": {
          "base_uri": "https://localhost:8080/"
        },
        "id": "pHpNrQzXd3wF",
        "outputId": "b42a4d11-f994-4511-ae02-588107b7d5f5"
      },
      "outputs": [
        {
          "name": "stdout",
          "output_type": "stream",
          "text": [
            "{'e', 'c', 'b', 'a'}\n"
          ]
        }
      ],
      "source": [
        "set1={\"a\",\"b\",\"c\",\"e\"}\n",
        "print(set1)"
      ]
    },
    {
      "cell_type": "code",
      "execution_count": null,
      "metadata": {
        "colab": {
          "base_uri": "https://localhost:8080/"
        },
        "id": "Tx5dj5Ypgesr",
        "outputId": "beeb9cea-e71b-493b-8f98-4e30d8d5b972"
      },
      "outputs": [
        {
          "name": "stdout",
          "output_type": "stream",
          "text": [
            "{'Name': 'moulik', 'Surname': 'Surana', 'marks': [9, 7, 6.5, 8, 4, 10]}\n"
          ]
        }
      ],
      "source": [
        "Dict = {'Name': 'moulik', \"Surname\":\"Surana\"}\n",
        "Dict['marks']= [9,7,6.5 ,8, 4]\n",
        "Dict[\"marks\"].append(10)\n",
        "\n",
        "print(Dict)"
      ]
    },
    {
      "cell_type": "code",
      "execution_count": null,
      "metadata": {
        "colab": {
          "base_uri": "https://localhost:8080/"
        },
        "id": "kjYJPnvajFug",
        "outputId": "01a61898-6e90-44a8-bccb-5a68670d32e1"
      },
      "outputs": [
        {
          "name": "stdout",
          "output_type": "stream",
          "text": [
            "blue\n",
            "pink\n",
            "blue\n",
            "green\n",
            "yellow\n",
            "white\n",
            "black\n"
          ]
        }
      ],
      "source": [
        "colours=[\"red\",\"blue\",\"green\",\"yellow\",\"white\",\"black\"]\n",
        "x=colours[1]\n",
        "colours[0]=\"pink\";\n",
        "print(x)\n",
        "for y in colours:\n",
        "  print(y)\n",
        "\n"
      ]
    }
  ],
  "metadata": {
    "colab": {
      "provenance": []
    },
    "kernelspec": {
      "display_name": "Python 3.9.7 64-bit",
      "language": "python",
      "name": "python3"
    },
    "language_info": {
      "codemirror_mode": {
        "name": "ipython",
        "version": 3
      },
      "file_extension": ".py",
      "mimetype": "text/x-python",
      "name": "python",
      "nbconvert_exporter": "python",
      "pygments_lexer": "ipython3",
      "version": "3.9.7"
    },
    "vscode": {
      "interpreter": {
        "hash": "aee8b7b246df8f9039afb4144a1f6fd8d2ca17a180786b69acc140d282b71a49"
      }
    }
  },
  "nbformat": 4,
  "nbformat_minor": 0
}
